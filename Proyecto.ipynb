{
 "cells": [
  {
   "cell_type": "code",
   "execution_count": 2,
   "metadata": {},
   "outputs": [],
   "source": [
    "# Librerías\n",
    "import numpy as np\n",
    "import geopandas\n",
    "import contextily\n",
    "import seaborn\n",
    "import sqlite3"
   ]
  },
  {
   "cell_type": "code",
   "execution_count": 23,
   "metadata": {},
   "outputs": [
    {
     "data": {
      "text/plain": [
       "4"
      ]
     },
     "execution_count": 23,
     "metadata": {},
     "output_type": "execute_result"
    }
   ],
   "source": [
    "def DENUE_SQL(scian, region):\n",
    "    scian2 = scian + \"%\"\n",
    "    sqlcon = sqlite3.connect(\"denue.db\")\n",
    "    cursor = sqlcon.cursor()\n",
    "    query = \"SELECT  latitud, longitud, per_ocu from denue WHERE codigo_act LIKE ? AND cve_ent == ?\" \n",
    "    cursor.execute(query, (scian2,region))\n",
    "    res = cursor.fetchall()\n",
    "    return res\n",
    "\n",
    "resQ = DENUE_SQL(\"9311\", \"01\")\n",
    "len(resQ)"
   ]
  },
  {
   "cell_type": "code",
   "execution_count": 22,
   "metadata": {},
   "outputs": [
    {
     "data": {
      "text/plain": [
       "'1'"
      ]
     },
     "execution_count": 22,
     "metadata": {},
     "output_type": "execute_result"
    }
   ],
   "source": []
  }
 ],
 "metadata": {
  "interpreter": {
   "hash": "c0d3744b262a11e63a852cf1833c5d725556742799f1a56cf559b2c380edc5cf"
  },
  "kernelspec": {
   "display_name": "Python 3.10.4 ('geo_env')",
   "language": "python",
   "name": "python3"
  },
  "language_info": {
   "codemirror_mode": {
    "name": "ipython",
    "version": 3
   },
   "file_extension": ".py",
   "mimetype": "text/x-python",
   "name": "python",
   "nbconvert_exporter": "python",
   "pygments_lexer": "ipython3",
   "version": "3.10.4"
  },
  "orig_nbformat": 4
 },
 "nbformat": 4,
 "nbformat_minor": 2
}
